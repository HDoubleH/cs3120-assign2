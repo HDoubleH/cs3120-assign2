{
  "cells": [
    {
      "cell_type": "markdown",
      "metadata": {
        "colab_type": "text",
        "id": "view-in-github"
      },
      "source": [
        "<a href=\"https://colab.research.google.com/github/HDoubleH/cs3120-assign2/blob/main/linear_regression_lab.ipynb\" target=\"_parent\"><img src=\"https://colab.research.google.com/assets/colab-badge.svg\" alt=\"Open In Colab\"/></a>"
      ]
    },
    {
      "cell_type": "markdown",
      "metadata": {
        "id": "svJ0r9JjXGOQ"
      },
      "source": [
        "# Assign 2: Linear Regression Lab\n",
        "\n",
        "In this first lab you will fit a linear regression model. You will also dig deeper by 'training' a linear regression model manually in a few different ways.\n",
        "\n",
        "You might be wondering, \"*why all the excitement about linear regression?*\"  It so happens that regression is one of the workhorses of machine learning, and it also underlies other more complex types of models.  The advantage of regression models is that they are highly interpretable and very stable when it comes to training/fitting. In fact, linear regression models, particularly multiple linear regression with many input predictors, can mimic a lot of the power of more complex models, such as neural networks, while maintaining their computational stability and interpretability. There is a long running joke/meme about companies that claim to use \"machine learning\" actually use linear regression (and logistic regression, which we'll soon see more of). This isn't entirely a joke though since even if a company is using very powerful/complex types of models (e.g. deep neural networks), they will almost always have already tried using a linear regression model because it would be the cheaper and faster solution.  In other words, linear regression is almost always the default modeling approach, and is sometimes hard to beat!\n",
        "\n",
        "*Note that this notebook uses some content from a [course at NYU](https://cims.nyu.edu/~brenden/courses/labincp/labs/LabReg-IntroToRegression.html), which itself borrowed content from [General Assembly's Data Science](https://github.com/justmarkham/DAT4) course, which claims to have adapted materials one of the most authoratative texts on the subject, [An Introduction to Statistical Learning](http://www-bcf.usc.edu/~gareth/ISL/).*\n",
        "\n",
        "\n",
        "Next, we would typically load the Python libraries/modules that we'll use. However, these have been commented because we will load each module individually just before we use it, so that we can start to understand which modules does what."
      ]
    },
    {
      "cell_type": "code",
      "execution_count": null,
      "metadata": {
        "id": "ESYsCJAYXGOR"
      },
      "outputs": [],
      "source": [
        "#from IPython.core.display import HTML, Markdown #, display\n",
        "#from sklearn import linear_model\n",
        "#import numpy.random as npr\n",
        "#import numpy as np\n",
        "#import pandas as pd\n",
        "#import seaborn as sns\n",
        "#import matplotlib.pyplot as plt\n",
        "#import scipy.stats as stats\n",
        "#import statsmodels.formula.api as smf\n",
        "#import ipywidgets as widgets"
      ]
    },
    {
      "cell_type": "markdown",
      "metadata": {
        "id": "94ME8cusXGOR"
      },
      "source": [
        "We are going to use the [statsmodels](https://www.statsmodels.org/stable/index.html) python package to fit our regression model because it has a lot of nice outputs which are helpful for interpreting regressions.  However, you could do almost all of the same using the [scikit-learn](https://scikit-learn.org/stable/) package, which is a more general package for machine learning than can perform various types of sophisticated regression, classification, clustering, and dimensionality reduction steps."
      ]
    },
    {
      "cell_type": "markdown",
      "metadata": {
        "id": "sCb__-paXGOS"
      },
      "source": [
        "## Loading the dataset\n",
        "\n",
        "Before training/fitting any model we need data. Below we will load a dataset from the text, [Learning Statistics with R](https://kpu.pressbooks.pub/learningstatistics/). The dataset will help us to explore the factors that lead to a parent being grumpy after having a baby.\n",
        "\n",
        "The data is located in a public github repository but loading will be no different than if it were a local file in our computer. We simply use the link to the file and open it with the [pandas](https://pandas.pydata.org) Python module `read_csv` command.\n",
        "\n",
        "Also, let's look at the first few rows of data. Note that one row can be thought of as one *observation*."
      ]
    },
    {
      "cell_type": "code",
      "execution_count": null,
      "metadata": {
        "colab": {
          "base_uri": "https://localhost:8080/",
          "height": 206
        },
        "id": "aTiAb65SXGOS",
        "outputId": "049e4045-7c40-418c-b000-c6155dcb2897"
      },
      "outputs": [],
      "source": [
        "import pandas as pd\n",
        "\n",
        "df = pd.read_csv('https://raw.githubusercontent.com/sgeinitz/CS3120/main/lab1_data_parenthood.csv')\n",
        "df.head()"
      ]
    },
    {
      "cell_type": "markdown",
      "metadata": {
        "id": "f5M7jMS-XGOS"
      },
      "source": [
        "For this dataset one observation consists of the following fields or columns:\n",
        "\n",
        "* `day` - the day of the baby's life and the day that the observation was made  \n",
        "* `parent_sleep` - number of hours of sleep the parent had the night before this day\n",
        "* `baby_sleep` - number of hours of sleep the baby had the night before this day\n",
        "* `parent_grumpy` - level of grumpiness of the parent on this day (this will be our `Y`, or what we will want to try to predict)\n",
        "\n",
        "To confirm that information, or if we didnt' know it ahead of time, we could use the pandas dataframe method, `describe`, to see some descriptive statistics for each column."
      ]
    },
    {
      "cell_type": "code",
      "execution_count": null,
      "metadata": {
        "colab": {
          "base_uri": "https://localhost:8080/",
          "height": 300
        },
        "id": "aAuHYW8PXGOS",
        "outputId": "0746f2f4-d882-4286-c829-7c277a5968b7"
      },
      "outputs": [],
      "source": [
        "df.describe()"
      ]
    },
    {
      "cell_type": "markdown",
      "metadata": {
        "id": "Sn_biySTXGOT"
      },
      "source": [
        "***\n",
        "### Q1: What does the column `parent_grumpy` look like? What is it's mean? What is it's minimum value? Maximum value? Based on all of that, what do you think the scale of grumpiness is? Is it between 1 and 10? Between -1 and 1?\n",
        "\n",
        "The column parent_grumpy is a numeric scale showing how grumpy a parent is, its mean is 63.71, min value is 41, max value is 91, and its scale appears to lie from 0 to 100.\n",
        "***"
      ]
    },
    {
      "cell_type": "markdown",
      "metadata": {
        "id": "fUjWE042XGOT"
      },
      "source": [
        "Next, let's look at if or how the columns are related to one another. There are descriptive statistics that we can calculate to do this but typically it's best to simply look at the data and see what it looks like.\n",
        "\n",
        "We'll use the Python module [seaborn](https://seaborn.pydata.org), which is for plotting and visualizing data."
      ]
    },
    {
      "cell_type": "code",
      "execution_count": null,
      "metadata": {
        "colab": {
          "base_uri": "https://localhost:8080/",
          "height": 466
        },
        "id": "K1gmQ0rgXGOT",
        "outputId": "7c582fc5-eaf8-42a3-9184-404b7ab96085"
      },
      "outputs": [],
      "source": [
        "import seaborn as sns\n",
        "\n",
        "sns.scatterplot(data=df, x='day', y='parent_grumpy')"
      ]
    },
    {
      "cell_type": "markdown",
      "metadata": {
        "id": "W_qbn3HEXGOT"
      },
      "source": [
        "***\n",
        "### Q2: Does there appear to be a relationship of any kind between day and how grumpy the parent is? In other words, does a parent's level of grumpiness get better or worse in the first 100 days of baby's life? Is there any type of pattern in how these two variables are related?\n",
        "\n",
        "According to the scatter plot, there appears to be no relationship between a parents level of grumpiness in the first 100 days of a baby's life. If there was to be any pattern it would be that values seem to group in the 50-80 range, with outliers falling above and below this. Beyond that the plot reveals that the first 100 days remain consistent, or rather the first 100 days don't have a relationship with the parents level of grumpiness.  \n",
        "***"
      ]
    },
    {
      "cell_type": "markdown",
      "metadata": {
        "id": "E3FI-EWPXGOU"
      },
      "source": [
        "Next, let's look at the other fields versus a parent's level of grumpiness. Note that we'll now use the other common Python module for plotting and visualization, matplotlib. This module is lower-level than seaborn which allows us to create multiple plots side by side, and manipulate other small details of plots."
      ]
    },
    {
      "cell_type": "code",
      "execution_count": null,
      "metadata": {
        "colab": {
          "base_uri": "https://localhost:8080/",
          "height": 388
        },
        "id": "fA3TsBHLXGOU",
        "outputId": "28fa4811-7e3e-4b5b-aa72-c48d7db43d2d"
      },
      "outputs": [],
      "source": [
        "import matplotlib.pyplot as plt\n",
        "\n",
        "#fig, (ax1, ax2, ax3) = plt.subplots(1, 3, figsize=(12, 4))\n",
        "fig, (ax1, ax2) = plt.subplots(1, 2, figsize=(10, 4))\n",
        "sns.scatterplot(data=df, x='baby_sleep', y='parent_grumpy', ax=ax1)\n",
        "sns.scatterplot(data=df, x='parent_sleep', y='parent_grumpy', ax=ax2, color='red')\n",
        "#sns.scatterplot(data=df, x='baby_sleep', y='parent_sleep', ax=ax3, color='red')\n",
        "plt.show()"
      ]
    },
    {
      "cell_type": "markdown",
      "metadata": {
        "id": "qXHRVv59XGOU"
      },
      "source": [
        "***\n",
        "### Q3: What is the relationship that seems more important here? In other words, which do you think is a more direct cause of a parent being grumpy?\n",
        "\n",
        "From the two plots we can see that as baby sleep increases, parent grumpiness decreases. But the trend in parent sleep vs parent grumpiness has a much clearer downward trend, suggesting that while baby_sleep does have an effect, the much more direct influence is parent sleep in relation to parent grumpiness.\n",
        "\n",
        "***"
      ]
    },
    {
      "cell_type": "markdown",
      "metadata": {
        "id": "PKLxlYNIXGOU"
      },
      "source": [
        "## Simple Linear Regression\n",
        "\n",
        "There is a lot more that could be discussed about which variable drives what, in what order, etc. For now though, let's go ahead and begin fitting a linear regression. As we've seen, simple linear regression is an approach for predicting a **quantitative response** using a **single feature** (or \"predictor\" or \"input variable\"). It takes the following form:\n",
        "\n",
        "$y = \\beta_0 + \\beta_1x \\quad $ or $ \\quad y = b + w x$\n",
        "\n",
        "What does each term represent?\n",
        "- $y$ is the response\n",
        "- $x$ is the feature\n",
        "- $\\beta_0$ is the y-intercept of the line, which we could also call the **bias** parameter, $b$\n",
        "- $\\beta_1$ is the slope of the line or coefficient for x, which we could also call the **weight** parameter, $w$\n",
        "\n",
        "Together, $\\beta_0$ and $\\beta_1$, or $b$ and $w$ are called the **model coefficients**, or **parameters** of the model. To train or fit the model it must \"learn\" the values of these parameters. Once we've learned these coefficients, we can use the model to make predictions!"
      ]
    },
    {
      "cell_type": "markdown",
      "metadata": {
        "id": "ssPdqelSXGOU"
      },
      "source": [
        "What do you mean by \"learn\"?  Well you are probably more familiar with the phrase \"fit\" meaning we adjust the settings of the model coefficients (aka as parameters) until the line seems like a good summary of the data.  Fitting thus mean adjusting some internal numbers so that the better reflect the underlying data set.  Well when a human (or machine) learns it, it is in some sense of the same thing.  We change the connections of the weights (or parameters) inside our brains to help us better predict our environment.  For instance if your roommate is prone to late night partying and being grumpy the next day you might mentally fit a model to the experiences you have and \"learn\" what features are predictive of them being grumpy.  So basically fitting a linear regression model is the same as doing basic machine learning! Wow!\n",
        "\n",
        "Before we get into using the computer to \"fit\" our data, let's start simple and do things by hand. Try adjusting the sliders below to get to what you think is a good model fit. As mentioned in class, getting roughly half of the points above the line and half below the line is ideally what we want."
      ]
    },
    {
      "cell_type": "code",
      "execution_count": null,
      "metadata": {
        "colab": {
          "base_uri": "https://localhost:8080/",
          "height": 606,
          "referenced_widgets": [
            "94c40e53ab2f44798acebfef5048afdc",
            "f52ec7f7e51a4517a14ee04b9fd80a1f",
            "18d65da379334f0bad3e0fbdd47023bf",
            "725f4aaf34e04718821fd6a04b066b2e",
            "fb5cafa897744e56a7fa36880a228884",
            "0ffca712402946b8b3219f0876ec546b",
            "82335444ad0b4316a7da5e71b3835759",
            "17a86e66c1384d2595fa5515152a895e",
            "920a2fa965e448d69d964bc51af2d126",
            "1a34cb56a3134ab096299198f232a108"
          ]
        },
        "id": "54zgD_GlXGOV",
        "outputId": "5b85ba81-92f8-4757-8b67-053d185c37b2"
      },
      "outputs": [],
      "source": [
        "from IPython.core.display import HTML, Markdown\n",
        "import ipywidgets as widgets\n",
        "import numpy as np\n",
        "\n",
        "@widgets.interact(slope=widgets.IntSlider(min=-20, max=20, step=1, value=0), intercept=widgets.IntSlider(min=0, max=200, step=1, value=50))\n",
        "def plot_grumpiness(slope, intercept):\n",
        "    predict = intercept + slope * df.parent_sleep\n",
        "    resid = df.parent_grumpy - predict\n",
        "    fig, ax = plt.subplots(figsize=(9,6))\n",
        "\n",
        "    x1 = np.linspace(df.parent_sleep.min(), df.parent_sleep.max(), 400)\n",
        "    y1 = intercept + slope * x1\n",
        "\n",
        "    ax.plot(df.parent_sleep, df.parent_grumpy, 'ko', markersize=4)\n",
        "\n",
        "    ax.plot(x1, y1, '-', color='steelblue', linewidth=1)\n",
        "    plt.xlabel(\"dad sleep\")\n",
        "    plt.ylabel(\"dad grumpy level\")\n",
        "\n",
        "    plt.show()\n"
      ]
    },
    {
      "cell_type": "markdown",
      "metadata": {
        "id": "prAJJArTXGOV"
      },
      "source": [
        "If you used the approach of getting half of the points above the line and half below the line, you probably realized that there are several different ways to acheive this - not all of which make sense. That's why we instead think about fitting a regression model as minimizing all **residuals**. A residual is defined as the difference between the the observation $y$ and the prediction $\\hat{y}$.\n",
        "\n",
        "Specifically, the **residual for the $i^{th}$ observation** in the data is defined as:\n",
        "* $y_i - \\hat{y}_i$\n",
        "\n",
        "The next plot shows what are known as the **residuals** between the actual data points (black) and the regression line (blue). As you can see the total amount of red changes depending on how good of a fit your parameter values give you. Use this widget to make your own *guesstimate* of what the values of $\\beta_0$ and $\\beta_1$ should be.\n"
      ]
    },
    {
      "cell_type": "code",
      "execution_count": null,
      "metadata": {
        "colab": {
          "base_uri": "https://localhost:8080/",
          "height": 606,
          "referenced_widgets": [
            "dec037abe49045bd8f917a30ee7da7d4",
            "71a36afde1bf48e487bb70f4f62e4e0f",
            "4a7ab4a496ef4f1aa04d5e10d2046e97",
            "dd270882e5d6476895ff75552c8ca92e",
            "a07dc9f6989649deaf0552bb6a95ba62",
            "a2abe92d35cd47e9809e35a08560ec51",
            "551a297ce3dd48f7bb324e586f977ff4",
            "7bbac2932d1e4c01bd05fd4dfdbe6ab3",
            "fd1421a1fde847d385fdaa0278c518a2",
            "171c6b9361ee4548b4277be9f5c5c9fa"
          ]
        },
        "id": "efeunSfHXGOV",
        "outputId": "98ff06ac-03f9-463a-f2a8-dd5857d1e4a0"
      },
      "outputs": [],
      "source": [
        "@widgets.interact(slope=widgets.IntSlider(min=-20, max=20, step=1, value=0), intercept=widgets.IntSlider(min=0, max=200, step=1, value=50))\n",
        "def plot_grumpiness(slope, intercept):\n",
        "    predict = intercept+slope*df.parent_sleep\n",
        "    resid = df.parent_grumpy-predict\n",
        "    fig, ax = plt.subplots(figsize=(9,6))\n",
        "\n",
        "    x1 = np.linspace(df.parent_sleep.min(), df.parent_sleep.max(),400)\n",
        "    y1 = intercept+slope*x1\n",
        "\n",
        "    ax.plot(df.parent_sleep, df.parent_grumpy,'ko',markersize=4)\n",
        "    ax.plot(df.parent_sleep, df.parent_grumpy-resid,'o',markersize=4,markeredgecolor='r', markeredgewidth=.4, markerfacecolor='white')\n",
        "\n",
        "    ax.plot(x1,y1,'-',color='blue',linewidth=1)\n",
        "    plt.xlabel(\"dad sleep\")\n",
        "    plt.ylabel(\"dad grumpiness\")\n",
        "\n",
        "    ax.vlines(df.parent_sleep, df.parent_grumpy, df.parent_grumpy-resid,'r',linewidth=0.5)\n",
        "    plt.show()\n",
        "\n"
      ]
    },
    {
      "cell_type": "markdown",
      "metadata": {
        "id": "IcDVYWhJXGOV"
      },
      "source": [
        "***\n",
        "### Q4: What values of $\\beta_0$ and $\\beta_1$ result in a good model fit? Is the slope positive or negative? Explain why?\n",
        "\n",
        "For $\\beta_0$ I found that an intercept of 113 with a $\\beta_1$ slope of -7 had roughly half the points above the line. This means that when a parent gets 0 hours of sleep their grumpiness breaks the previous scales we had assumed, but remains mathmatically consistent. The slope is negative, which makes sense, because as parents get more sleep, their grumpiness decreases, or following the plot, for every additional hour of sleep they get, their grumpiness decreases by about 7.\n",
        "\n",
        "***"
      ]
    },
    {
      "cell_type": "markdown",
      "metadata": {
        "id": "AsYIlQqVXGOV"
      },
      "source": [
        "## Estimating Model Coefficients (i.e. \"training\" the model)\n",
        "\n",
        "The mechanics of fitting a line to some data, or \"learning\" the model parameter values, or \"training\" the model is better done using a precise method rather than eyeballing it as you did above. Generally speaking, coefficients are estimated using the **least squares criterion**, which means we will find the line (mathematically) which minimizes the **sum of squared residuals** (or \"sum of squared errors\"). This can be summed up in the following graphic.\n",
        "\n",
        "![toyexample](https://cims.nyu.edu/~brenden/courses/labincp/_images/08_estimating_coefficients.png)\n",
        "\n",
        "In the figure above...\n",
        "- the black dots are the **observed values** of x and y,\n",
        "- the blue line is the **least squares line**,\n",
        "- the red lines are the **residuals**, which are the distances between the observed values and the least squares line.\n",
        "\n",
        "Remember, model parameters in the regression model can be interpreted as follows.\n",
        "- $\\beta_0$ is the **intercept** (the value of $y$ when $x$=0)\n",
        "- $\\beta_1$ is the **slope** (the change in $y$ divided by change in $x$)\n",
        "\n",
        "Here is a graphical depiction of those calculations:\n",
        "\n",
        "![toyexample2](https://cims.nyu.edu/~brenden/courses/labincp/_images/08_slope_intercept.png)\n"
      ]
    },
    {
      "cell_type": "markdown",
      "metadata": {
        "id": "vcSHd5exXGOV"
      },
      "source": [
        "To find the best possible parameter values (i.e. to fit or train the model), we want to minimize the sum of squared errors. Note that since $\\hat{y}$ is a function of $\\beta_0$ and $\\beta_1$, then the sum of squared errors can be stated as a function of them (and then minimized). Namely, we want to minimize the following expression with respect to $\\beta_0$ and $\\beta_1$.\n",
        "\n",
        "* $\\sum_{i=1}^{n} (y_i - (\\beta_0 + \\beta_1 x_i))^2$\n",
        "\n",
        "We could manually calculate the values by minimizing the above, but let's first use the [statmodels](https://www.statsmodels.org/stable/install.html) Python package. See how these numbers compare to the values you found in your *guesstimate* above."
      ]
    },
    {
      "cell_type": "code",
      "execution_count": null,
      "metadata": {
        "colab": {
          "base_uri": "https://localhost:8080/"
        },
        "id": "O1hEzCtGXGOV",
        "outputId": "bff2e5f6-c712-43e6-a354-7a0244d4878c"
      },
      "outputs": [],
      "source": [
        "import statsmodels.formula.api as smf\n",
        "\n",
        "sm_lm = smf.ols(formula='parent_grumpy ~ parent_sleep', data=df).fit()\n",
        "print(sm_lm.params)"
      ]
    },
    {
      "cell_type": "markdown",
      "metadata": {
        "id": "DYpM1hRKXGOW"
      },
      "source": [
        "A couple of points on how we used `smf` here...\n",
        "* First is that we use the `smf.ols()` function which does an _ordinary least squares_ fit.  This is the type of fit which tries to minimize the sum of the squared residuals.  There are other types of fitting proceedures such as weighted least squares which is used when you expect the variance of the predicted variable to changes with the input predictor as well as its mean value.  We won't worry about those variations of linear regression in this class though.\n",
        "\n",
        "* Second is that we provide the `ols()` function or method with the pandas dataframe we are working with, `df`, and then provide a formula.  The formula expresses our \"_model_\" and is which variables in the data frame we are trying to relate.  Here the formula `parent_grumpy ~ parent_sleep` means that we want to predict `parent_grumpy` values given `parent_sleep` values. So you think of `parent_grumpy` as our \"_y value_\" and `parent_sleep` are our \"_x value_\".\n",
        "\n",
        "\n",
        "Although the **statsmodels** Python module is a powerful and intuitive tool for statistics, and similar to the standard libraries in R, the module that is more common among Data Scientists and Machine Learning practioners is [scikitlearn](https://scikit-learn.org/stable/). We'll use this now. Try to make a note of how the syntax is different between statsmodels and scikitlearn."
      ]
    },
    {
      "cell_type": "code",
      "execution_count": null,
      "metadata": {
        "colab": {
          "base_uri": "https://localhost:8080/"
        },
        "id": "PCoK8nrrXGOW",
        "outputId": "96b44552-a1f0-4028-9a45-4ee124a3eaa3"
      },
      "outputs": [],
      "source": [
        "from sklearn import linear_model\n",
        "\n",
        "lm = linear_model.LinearRegression()\n",
        "lm.fit(df[['parent_sleep']], df['parent_grumpy'])\n",
        "print(lm.coef_, lm.intercept_)"
      ]
    },
    {
      "cell_type": "markdown",
      "metadata": {
        "id": "YKp_JEDjXGOW"
      },
      "source": [
        "It's easy to see that the values of the parameters for both models are the same, but notice the small diffences in the names of usage of them. The **statsmodel** model gives us all of the parameters in attribute `lm.params`.\n",
        "\n",
        "With `scikitlearn`, or `sklearn` above, the model has different attributes for each parameter, `lm.coef_`, `lm.intercept`. Note that `lm.coef` itself is a list though, so if our model was going to have other predictors, i.e. other X variables or inputs, then they would be added to the list, `lm.coef`."
      ]
    },
    {
      "cell_type": "markdown",
      "metadata": {
        "id": "MKgAC1mYXGOW"
      },
      "source": [
        "## Interpreting the Model\n",
        "\n",
        "One of the biggest advantages of ordinary least squares regression is that it is highly interpretable. By this, we mean to say that it's possible to look at the model parameter values and directly draw some conclusion or interpretion from it.\n",
        "\n",
        "That is, we can directly interpret the `slope` or `weight` parameter associated with `parent_sleep`, according to its value. In this case, with a value of `-8.9`, we can say:\n",
        "\n",
        "- A one \"unit\" increase in hours of sleep is associated with a -8.9367 \"unit\" decrease (because it is negative) in grumpiness. This should kind of make sense once you think about it too, i.e. more sleep = less grumpy!\n",
        "\n",
        "The other parameter in our model, the `intercept` or `bias` term, tells us what the model would predict if `X`, or `parent_sleep` in this case, were zero (0). (You can sort understand why it is referred to a bias term also, since it's the value you would get if you didn't have any information, so it's sort of a presupposed value, or bias.)\n",
        "If `parent_sleep` is zero, then `pare\n",
        "nt_grumpy` would be predicted to be 125.95. This means that if a parent gets no sleep at all their grumpiness will be at a very high level of 125.95!  Bad news."
      ]
    },
    {
      "cell_type": "markdown",
      "metadata": {
        "id": "VAAJBHZiXGOW"
      },
      "source": [
        "***\n",
        "### Q5: Suppose that the _grumpiness_ scale is between 0 and 100. How would you explain or justify the prediction the model would make if a parent did not sleep at all the night before? Or, if they slept only one hour? What does this say about the model, is it a \"good\" or \"bad\" model?\n",
        "\n",
        "The model shows us an impossible value when we exceed the range, showing that for 0 hours of sleep, it predicts 125.95 levels of grumpiness, and for 1 hour, y = 125.95 + (-8.9367)(1), which = roughly 117, still exceeding our scale. I believe this shows that our model is good when inside the ranges of 5-9 hours of sleep, showing strong, observable relationships. With that it also shows that it is unreliable for ranges outside of this, say if a parent got 18 hours of sleep they would have -34 levels of grumpiness, which also doesn't make sense. So when applied in the approriate range, the model is useful. Outside of that, it is a bad model.\n",
        "\n",
        "***\n",
        "\n",
        "Note that this question is related to a famous saying in Statistics, which is \"*All models are wrong, but some are useful*\". This essentially says that every model has limitations, or is incorrect in some way, but can still make sense and yield useful results when used in the appropriate setting.\n",
        "\n",
        "![image](https://miro.medium.com/v2/resize:fit:1400/1*EJZZKiXLcbp_MxRW9HJrmA.jpeg)"
      ]
    },
    {
      "cell_type": "markdown",
      "metadata": {
        "id": "ED4fRXscXGOW"
      },
      "source": [
        "## Using the Model for Prediction\n",
        "\n",
        "Once the model has been fit or trained with the training data, we can now use it for predictions. In other words, with just the following equation it is possible to make a prediction for any new value of `x`, i.e. `parent_sleep`.\n",
        "$$y = 125.956292 + -8.936756 \\times x$$"
      ]
    },
    {
      "cell_type": "markdown",
      "metadata": {
        "id": "xneHWRnXXGOW"
      },
      "source": [
        "***\n",
        "\n",
        "### Q5: Using only the trained model the parent now wants to make a prediction for tomorrow. Everything is going smooth so they antipicate getting a good night of sleep, or around `8.5` hours of sleep. What will their predicted level of grumpiness be tomorrow?\n",
        "\n",
        "when hours_of_sleep = 8.5, grumpiness is predicted to be 49.99386717\n",
        "\n",
        "***"
      ]
    },
    {
      "cell_type": "code",
      "execution_count": null,
      "metadata": {
        "colab": {
          "base_uri": "https://localhost:8080/"
        },
        "id": "h7PrtSGdXGOW",
        "outputId": "44c7a0a1-8509-4266-ee8f-df695d1283a3"
      },
      "outputs": [],
      "source": [
        "hours_of_sleep = 8.5\n",
        "X_new = pd.DataFrame({'parent_sleep': [hours_of_sleep]})\n",
        "lm.predict(X_new)"
      ]
    },
    {
      "cell_type": "markdown",
      "metadata": {
        "id": "boIqgtZoXGOW"
      },
      "source": [
        "## Plotting the least squares regression line\n",
        "\n",
        "Let's take a look at the best fit line.  There are two very easy ways to do this.  One is using seaborn's regplot which takes care of all of the underlying steps to plot the regression line."
      ]
    },
    {
      "cell_type": "code",
      "execution_count": null,
      "metadata": {
        "colab": {
          "base_uri": "https://localhost:8080/",
          "height": 467
        },
        "id": "dsDOEZ7BXGOX",
        "outputId": "b5d6cffa-6ffa-4ffe-8470-0098253c1ba2"
      },
      "outputs": [],
      "source": [
        "sns.regplot(x='parent_sleep', y='parent_grumpy', data=df)"
      ]
    },
    {
      "cell_type": "markdown",
      "metadata": {
        "id": "QVYvthwwXGOX"
      },
      "source": [
        "Alternatively, if we want more control over the plot, or want to make other modifications, then using matplotlib is often going to be preferred."
      ]
    },
    {
      "cell_type": "code",
      "execution_count": null,
      "metadata": {
        "colab": {
          "base_uri": "https://localhost:8080/",
          "height": 388
        },
        "id": "OngmNRe6XGOX",
        "outputId": "9c37cddb-2023-4a72-fad7-97895867cf46"
      },
      "outputs": [],
      "source": [
        "fig, ax = plt.subplots(figsize=(6.5,4))\n",
        "\n",
        "# create a DataFrame with the minimum and maximum values of sleep\n",
        "x1 = pd.DataFrame({'parent_sleep': [df.parent_sleep.min(), df.parent_sleep.max()]})\n",
        "y1 = lm.predict(x1)  # predict for the two data points using the fitted model in lm\n",
        "ax.plot(df.parent_sleep, df.parent_grumpy, 'ko', markersize=4)\n",
        "ax.plot(x1, y1, '-', color='steelblue', linewidth=1)\n",
        "plt.xlabel(\"parent_sleep\")\n",
        "plt.ylabel(\"parent_grumpy\")\n",
        "plt.show()"
      ]
    },
    {
      "cell_type": "markdown",
      "metadata": {
        "id": "KvGO50EdXGOX"
      },
      "source": [
        "## Confidence in our Model\n",
        "\n",
        "As mentioned before, the **statsmodels** library offers some convience for more traditional statistics questions or tasks. One of those is getting an idea of how confident we are about the estimated values of the parameters. Looking at the confidence intervals for the parameter value estimates gives us a decent idea of whether the model fits this data reasonably well. Below we look at the 95% confidence interval, or the $(1-\\alpha)$% confidence interval.\n",
        "\n",
        "As you can see, although there is a range of possible values, the range is reasonably small, telling us that there is a high level of confidence these parameter values estimates are yielding a model that fits the data reasonably well. We have to be careful not to misinterpret this though, remember that the precise intrepretation of the confidence interval is...\n",
        "\n",
        "* If the population from which this sample was drawn was **sampled 100 times**, approximately **95 of those confidence intervals** would contain the \"true\" coefficient."
      ]
    },
    {
      "cell_type": "code",
      "execution_count": null,
      "metadata": {
        "colab": {
          "base_uri": "https://localhost:8080/",
          "height": 112
        },
        "id": "zFYJPudfXGOX",
        "outputId": "7f341740-5ba7-46a5-97e1-c9defc13ad94"
      },
      "outputs": [],
      "source": [
        "# print the confidence intervals for the model coefficients\n",
        "sm_lm.conf_int(alpha=0.05)"
      ]
    },
    {
      "cell_type": "markdown",
      "metadata": {
        "id": "st3TDC44XGOX"
      },
      "source": [
        "Since the **sklearn** package tends to take more of a machine learning approach it does not have some of the same functionality as statsmodels. However, with a few more steps, it is possible to calculate. It's possible though, and you should verify that the confidence intervals are the same as above."
      ]
    },
    {
      "cell_type": "code",
      "execution_count": null,
      "metadata": {
        "colab": {
          "base_uri": "https://localhost:8080/",
          "height": 112
        },
        "id": "CpQNEMYfXGOX",
        "outputId": "a1eb17fc-fd7a-470f-fc31-7a3d652aea01"
      },
      "outputs": [],
      "source": [
        "# needs the stats module for getting appropriate t-values\n",
        "from scipy import stats\n",
        "\n",
        "def get_conf_int(alpha, lr, X, y):\n",
        "    coefs = np.r_[[lr.intercept_], lr.coef_]\n",
        "    X_aux = X.copy()\n",
        "    X_aux.insert(0, 'const', 1)\n",
        "    dof = -np.diff(X_aux.shape)[0]\n",
        "    mse = np.sum((y - lr.predict(X)) ** 2) / dof\n",
        "    var_params = np.diag(np.linalg.inv(X_aux.T.dot(X_aux)))\n",
        "    t_val = stats.t.isf(alpha/2, dof)\n",
        "    gap = t_val * np.sqrt(mse * var_params)\n",
        "\n",
        "    return pd.DataFrame({\n",
        "        'lower': coefs - gap, 'upper': coefs + gap\n",
        "    }, index=X_aux.columns)\n",
        "\n",
        "get_conf_int(0.05, lm, df[['parent_sleep']], df['parent_grumpy'])"
      ]
    },
    {
      "cell_type": "code",
      "execution_count": null,
      "metadata": {
        "colab": {
          "base_uri": "https://localhost:8080/"
        },
        "id": "zA5rrEhRXGOY",
        "outputId": "f9718b36-4f4d-4adc-b081-22e48f83359b"
      },
      "outputs": [],
      "source": [
        "np.diff(df.shape)"
      ]
    },
    {
      "cell_type": "markdown",
      "metadata": {
        "id": "3fSEEnPGXGOY"
      },
      "source": [
        "Again, remember that we only have a **single sample of data**, and not the **entire population of data**. The \"true\" coefficient is either within this interval or it isn't, but there's no way to actually know. We estimate the coefficient with the data we do have, and we show uncertainty about that estimate by giving a range that the coefficient is **probably** within.\n",
        "\n",
        "Also note that using 95% confidence intervals is just a convention. We could create 90% confidence intervals (which will be more narrow), or 99% confidence intervals (which will be wider), or whatever intervals we think make the most sense for our analysis/task."
      ]
    },
    {
      "cell_type": "markdown",
      "metadata": {
        "id": "3l9UeQInXGOY"
      },
      "source": [
        "## Hypothesis Testing and p-values\n",
        "\n",
        "Closely related to confidence intervals is **hypothesis testing**. Generally speaking, we start with a **null hypothesis** and an **alternative hypothesis** (that is opposite the null). Then, we check whether the data supports **rejecting the null hypothesis** or **failing to reject the null hypothesis**.\n",
        "\n",
        "(Note that \"failing to reject\" the null is not the same as \"accepting\" the null hypothesis. The alternative hypothesis may indeed be true, except that we just don't have enough data to show that.)\n",
        "\n",
        "As it relates to model coefficients, here is the conventional hypothesis test:\n",
        "- **null hypothesis:** There is no relationship between dad sleep and grumpiness (and thus $\\beta_1$ equals zero)\n",
        "- **alternative hypothesis:** There is a relationship between dad sleep and dad grumpinss (and thus $\\beta_1$ is not equal to zero)"
      ]
    },
    {
      "cell_type": "code",
      "execution_count": null,
      "metadata": {
        "colab": {
          "base_uri": "https://localhost:8080/",
          "height": 147
        },
        "id": "rheDS3PWXGOY",
        "outputId": "78c0c368-da27-4a5c-9f24-2a5620f06ff8"
      },
      "outputs": [],
      "source": [
        "# print the p-values for the model coefficients\n",
        "sm_lm.pvalues"
      ]
    },
    {
      "cell_type": "markdown",
      "metadata": {
        "id": "zR5PsOrUXGOY"
      },
      "source": [
        "How do we test this hypothesis? Intuitively, we reject the null (and thus believe the alternative) if the 95% confidence interval **does not include zero**. That is generally much easier to intrepret than the p-value, which strictly speaking should be interpreted as follows:\n",
        "* If the null hypothesis is true, then the p-value is probability of observing the data that we did (and thus getting the model parameters that we did).\n",
        "\n",
        "In this case, since the the p-values are both so small, we can likely safely reject the null hypothesis in favor of the alternative.\n",
        "\n",
        "Note that we generally ignore the p-value for the intercept. So, focusing only on the model parameter associated with `parent_sleep`, and seeing a p-value far less than 0.05, we can conclude that there is a relationship between sleep and grumpiness."
      ]
    },
    {
      "cell_type": "markdown",
      "metadata": {
        "id": "xVcoanUtXGOY"
      },
      "source": [
        "## How Well Does the Model Fit the data?\n",
        "\n",
        "The most common way to evaluate the overall fit of a linear model is by the **R-squared** value. R-squared is calculated in such a way that it has the direct intrepretation of being the **proportion of variance explained**, meaning the proportion of variance in the observed data that is explained by the model, or the reduction in error over the **null model**. (The null model just predicts the mean of the observed response, and thus it has an intercept and no slope.)\n",
        "\n",
        "R-squared is between 0 and 1, and higher is better because it means that more variance is explained by the model. Here's an example of what R-squared might be for different models fit to the same dataset (but a different data than our parenthood data).\n",
        "\n",
        "![polyfits](https://github.com/sgeinitz/CS3120/blob/main/images/poly_fits.png?raw=true)\n",
        "\n",
        "You can see that the **blue line** explains some of the variance in the data (R-squared=0.54), the **green line** explains more of the variance (R-squared=0.64), and the **red line** fits the training data even further (R-squared=0.66). (No need to think about this too hard right now, but which of those possible"
      ]
    },
    {
      "cell_type": "markdown",
      "metadata": {
        "id": "sHacbYiZXGOZ"
      },
      "source": [
        "Getting back to our parenthood datset, let's now calculate the R-squared value for our simple linear model."
      ]
    },
    {
      "cell_type": "code",
      "execution_count": null,
      "metadata": {
        "colab": {
          "base_uri": "https://localhost:8080/"
        },
        "id": "gK0zwnyuXGOZ",
        "outputId": "3b9d5eff-5414-4a32-8739-6eafc0417852"
      },
      "outputs": [],
      "source": [
        "sm_lm.rsquared"
      ]
    },
    {
      "cell_type": "markdown",
      "metadata": {
        "id": "3-fQ2I5-XGOZ"
      },
      "source": [
        "It's difficult to say what \"_good_\" R-squared value is. The threshold for a good R-squared value will depend widely on the domain and data. Therefore, it's most useful as a tool for **comparing different models**, rather than as saying that a single model is \"_good_\"."
      ]
    },
    {
      "cell_type": "markdown",
      "metadata": {
        "id": "gCqhqfhKXGOZ"
      },
      "source": [
        "Up until now we have been pulling information from the fitted model piece by piece. However, there is a nice summary command with **statsmodels** that lets you access a bunch of information about your regression at once. Don't worry about all of the other statistics and details listed there, just know that almost all of the information you'll ever need about a linear regression model can be found there."
      ]
    },
    {
      "cell_type": "code",
      "execution_count": null,
      "metadata": {
        "colab": {
          "base_uri": "https://localhost:8080/",
          "height": 452
        },
        "id": "k1Mr1Vu7XGOZ",
        "outputId": "58ea7966-b2e0-4f4d-bff1-fecbcd3e3fee"
      },
      "outputs": [],
      "source": [
        "sm_lm.summary()"
      ]
    },
    {
      "cell_type": "markdown",
      "metadata": {
        "id": "gb9rM1F3XGOZ"
      },
      "source": [
        "## Training a Linear Regression Manually\n",
        "\n",
        "We saw how easy it is to use Python to fit (i.e. train) a linear regression model. Let's go ahead and confirm that the manual approaches we've seen, and the intuition behind them also make sense.\n",
        "\n",
        "Most often we'll see a linear regression defined for one $i^{th}$ observation or training example. Which, for the feature $x_i$ and outcome $y_i$, is written as:\n",
        "$$y_i = \\beta_0 1 + \\beta_1 x_i$$\n",
        "\n",
        "However, we also saw that this can be written in vector or matrix notation where the matrix, $X$, has a column of 1's in it.\n",
        "$$\\vec{y} = X \\vec{\\beta}$$\n",
        "where\n",
        "$$\\vec{\\beta} = \\begin{bmatrix}\\beta_0 \\\\ \\beta_1\\end{bmatrix}$$\n",
        "Then, since (or if) the columns of the matrix $X$ are linearly independent, then the matrix $(X^T X)$ has an inverse, and the model parameters can be calculated directly using:\n",
        "$$\\vec{\\beta} = (X^T X)^{-1} X^T \\vec{y}$$\n",
        "\n",
        "Let's now confirm this works using the parenthood data. We'll first create the matrix $X$, being sure to add a $1$ column since that is needed to estimate $\\beta_0$.\n"
      ]
    },
    {
      "cell_type": "code",
      "execution_count": null,
      "metadata": {
        "colab": {
          "base_uri": "https://localhost:8080/",
          "height": 143
        },
        "id": "tiWe8MUvXGOa",
        "outputId": "e1eb0641-e1ad-43ed-c1c8-5b1fb44e9b1a"
      },
      "outputs": [],
      "source": [
        "X = pd.DataFrame({'intercept': 1, 'parent_sleep': df.parent_sleep})\n",
        "X.head(n=3)"
      ]
    },
    {
      "cell_type": "markdown",
      "metadata": {
        "id": "aOhHzBcdXGOa"
      },
      "source": [
        "Let's now do all of the remaining calculations, one step at a time."
      ]
    },
    {
      "cell_type": "code",
      "execution_count": null,
      "metadata": {
        "colab": {
          "base_uri": "https://localhost:8080/"
        },
        "id": "h0h9PweyXGOa",
        "outputId": "449528c5-b134-4d59-a8c1-772b382b433b"
      },
      "outputs": [],
      "source": [
        "# Calculate X^T X\n",
        "XtX = np.dot(X.T, X)\n",
        "\n",
        "# Then the inverse of X^T X\n",
        "XtX_inv = np.linalg.inv(XtX)\n",
        "\n",
        "# Then X^T y\n",
        "Xty = np.dot(X.T, df.parent_grumpy)\n",
        "\n",
        "# And lastly the coefficients\n",
        "betas = np.dot(XtX_inv, Xty)\n",
        "betas"
      ]
    },
    {
      "cell_type": "markdown",
      "metadata": {
        "id": "fCsEatPEXGOa"
      },
      "source": [
        "While the linear algebra approach is useful for understanding the underlying math from another point of view, it not immediately intuitive why it works. The following diagram is maybe the best attempt at trying to explain the intuition behind this linear algebra approach.\n",
        "\n",
        "![projection](https://github.com/sgeinitz/CS3120/blob/main/images/projection.png?raw=true)\n",
        "\n",
        "That image is telling us that the any prediction coming out of our model is going to be in the column space of $X$ (i.e. it will lay in a space that spanned by all possible linear combinations of the columns of $X$.) It is not super important that you know this, but it's a fun alternative way to see how linear regression models are fit to their data.\n",
        "\n",
        "The more intuitive way to explain how we fit a linear regression model is by looking more precisely at that quantity we want to minimize, namely the SSE:\n",
        "$$\\text{SSE} = \\sum_{i=1}^{n} (y_i - \\hat{y}_i)^2$$\n",
        "\n",
        "Recall that since $\\hat{y}_i$ is a the prediction for the $i^{th}$ observation, we can write it as $\\beta_0 + \\beta_1 x_i$, and thus rewrite SSE as:\n",
        "$$\\text{SSE} = \\sum_{i=1}^{n} \\left(y_i - (\\beta_0 + \\beta_1 x_i)\\right)^2$$\n",
        "\n",
        "Since there are two parameters, $\\beta_0, \\beta_1$, it's easy for us to visualize what the SSE looks like as a function of these two parameters. Below is a heatmap or surface plot of these. Again, to train the model we need to find the model parameter values that minimize SSE. Look at the plot below to see if you can roughly guess what the parameter values are."
      ]
    },
    {
      "cell_type": "code",
      "execution_count": null,
      "metadata": {
        "colab": {
          "base_uri": "https://localhost:8080/",
          "height": 845
        },
        "id": "6I3KSsSRXGOa",
        "outputId": "1580a080-47c6-4099-9d1f-b1d51898f3c3"
      },
      "outputs": [],
      "source": [
        "beta0_range = 25\n",
        "beta0 = np.arange(lm.intercept_+beta0_range, lm.intercept_-beta0_range, -0.5)\n",
        "beta1_range = 4\n",
        "beta1 = np.arange(lm.coef_[0]-beta1_range, lm.coef_[0]+beta1_range, 0.1)\n",
        "surf = np.array( [[np.square(df.parent_grumpy - (beta0[i] + beta1[j]*df.parent_sleep)).sum() for j in range(len(beta1))] for i in range(len(beta0))] )\n",
        "df_surf = pd.DataFrame(surf, columns=beta1, index=beta0)\n",
        "\n",
        "fig, ax = plt.subplots(figsize=(10, 8))\n",
        "sns.heatmap(df_surf, cbar_kws={'label': 'SSE'}, cmap=\"RdYlGn_r\", ax=ax)\n",
        "ax.contour(np.arange(.5, df_surf.shape[1]), np.arange(.5, df_surf.shape[0]), df_surf, colors='black', levels=[1960, 9000, 50000, 150000], linewidths=0.5)\n",
        "\n",
        "plt.xlabel(\"beta1\")\n",
        "plt.ylabel(\"beta0\")\n",
        "plt.show()\n"
      ]
    },
    {
      "cell_type": "markdown",
      "metadata": {
        "id": "LYLCjepZXGOa"
      },
      "source": [
        "You probably already figured out how to find the parameter values above, which is to look at the values of $beta_0$ and $\\beta_1$ that corresponded to the lowest point on the surface. We can look the data used in the plot and see here."
      ]
    },
    {
      "cell_type": "code",
      "execution_count": null,
      "metadata": {
        "colab": {
          "base_uri": "https://localhost:8080/"
        },
        "id": "5GDN1Js0XGOa",
        "outputId": "58bbf39c-1993-42c8-b13d-b4849d2f187d"
      },
      "outputs": [],
      "source": [
        "# find the minimum of the surface\n",
        "beta0_min, beta1_min = np.unravel_index(surf.argmin(), surf.shape)\n",
        "beta0[beta0_min], beta1[beta1_min]"
      ]
    },
    {
      "cell_type": "markdown",
      "metadata": {
        "id": "Wq7_l4YFXGOa"
      },
      "source": [
        "Notice that those values are nearly exactly what we found using **statsmodels**, **sklearn**, as well as the linear algebra approach. Let's try one more way of finding these parameter values now. For this we'll use calculus to solve for values of $\\beta_0$ and $\\beta_1$ that give us the minimum on the surface above (i.e. the value where the slope of the surface is zero).\n",
        "\n",
        "If you recall from Calculus class, we simply need to write the SSE as a function of the model parameters, $\\beta_0$, $\\beta_1$, and set it to zero, then solve. It's not important that you know how to do this exactly, but it's important to know that this is yet another way to think about \"_training_\" a linear regression model. Let's first explicitly state that the SSE is a function of the model parameters:\n",
        "$$\\text{SSE}(\\beta_0, \\beta_1) = \\sum_{i=1}^{n} \\left( y_i - (\\beta_0 + \\beta_1 x_i) \\right)^2$$\n"
      ]
    },
    {
      "cell_type": "markdown",
      "metadata": {
        "id": "MjPCUVFIXGOb"
      },
      "source": [
        "Steps to Solve for $\\beta_0$ and $\\beta_1$ Using Calculus\n",
        "\n",
        "1. Partial Derivatives\n",
        "   - To minimize SSE, take the partial derivatives of SSE with respect to $\\beta_0$ and $\\beta_1$, and set them equal to zero.\n",
        "\n",
        "   Partial Derivative with respect to $\\beta_0$:\n",
        "   $$\\frac{\\partial \\text{SSE}}{\\partial \\beta_0} = \\sum_{i=1}^{n} -2 \\cdot \\left( y_i - \\beta_0 - \\beta_1 \\cdot x_i \\right) = 0$$\n",
        "\n",
        "   Partial Derivative with respect to $\\beta_1$:\n",
        "   $$\\frac{\\partial \\text{SSE}}{\\partial \\beta_1} = \\sum_{i=1}^{n} -2 \\cdot x_i \\cdot \\left( y_i - \\beta_0 - \\beta_1 \\cdot x_i \\right) = 0$$\n",
        "\n",
        "2. Simplify the Equations\n",
        "   - Simplify the partial derivative equations to form two normal equations.\n",
        "\n",
        "   For $\\beta_0$:\n",
        "   $$\\sum_{i=1}^{n} \\left( y_i - \\beta_0 - \\beta_1 \\cdot x_i \\right) = 0$$\n",
        "   - Expanding and beginning to isolate $\\beta_0$, we get:\n",
        "   $$\\sum_{i=1}^{n} y_i - n \\cdot \\beta_0 + \\beta_1 \\sum_{i=1}^{n} x_i = 0 \\quad \\rightarrow \\quad n \\cdot \\beta_0 = \\sum_{i=1}^{n} y_i -\\beta_1 \\cdot \\sum_{i=1}^{n} x_i $$\n",
        "   - Divide by $n$ to get:\n",
        "   $$\\beta_0 = \\bar{y} - \\beta_1 \\cdot \\bar{x}$$\n",
        "   where $\\bar{y} = \\frac{1}{n} \\sum_{i=1}^{n} y_i$ and $\\bar{x} = \\frac{1}{n} \\sum_{i=1}^{n} x_i$ are the means of $y$ and $x$, respectively.\n",
        "\n",
        "   For $\\beta_1$:\n",
        "   $$\\sum_{i=1}^{n} x_i \\cdot y_i = \\beta_0 \\cdot \\sum_{i=1}^{n} x_i + \\beta_1 \\cdot \\sum_{i=1}^{n} x_i^2$$\n",
        "   - Substitute $\\beta_0 = \\bar{y} - \\beta_1 \\cdot \\bar{x}$ into this equation:\n",
        "   $$\\sum_{i=1}^{n} x_i \\cdot y_i = (\\bar{y} - \\beta_1 \\cdot \\bar{x}) \\cdot \\sum_{i=1}^{n} x_i + \\beta_1 \\cdot \\sum_{i=1}^{n} x_i^2$$\n",
        "   - After expanding and simplifying:\n",
        "   $$\\beta_1 = \\frac{\\sum_{i=1}^{n} \\left( x_i - \\bar{x} \\right) \\left( y_i - \\bar{y} \\right)}{\\sum_{i=1}^{n} \\left( x_i - \\bar{x} \\right)^2}$$\n",
        "\n",
        "Let's now use these formulas to \"train\" the model (i.e. calculate the values of the parameters $\\beta_0$, $\\beta_1$) for our given training dataset.\n"
      ]
    },
    {
      "cell_type": "code",
      "execution_count": null,
      "metadata": {
        "colab": {
          "base_uri": "https://localhost:8080/"
        },
        "id": "Y78AvRNBXGOb",
        "outputId": "52e01f69-06e4-4dd0-c479-9088477cc104"
      },
      "outputs": [],
      "source": [
        "n = df.shape[0] # this is the number of observations or training examples\n",
        "b1_numerator = np.sum((df.parent_grumpy - df.parent_grumpy.mean()) * (df.parent_sleep - df.parent_sleep.mean()))\n",
        "b1_denominator = np.sum((df.parent_sleep - df.parent_sleep.mean()) ** 2)\n",
        "beta1_hat = b1_numerator / b1_denominator\n",
        "\n",
        "beta0_hat = df.parent_grumpy.mean() - beta1_hat * df.parent_sleep.mean()\n",
        "(beta0_hat, beta1_hat)"
      ]
    },
    {
      "cell_type": "markdown",
      "metadata": {
        "id": "AZJeFVh7XGOb"
      },
      "source": [
        "As you can see, those values are the exact same as we found earlier. You may have noticed that the formulas we found for $\\beta_0$ and $\\beta_1$ above contain some terms that look similar to variance and covariance calculations. Given that, we could also calculate these values in a more concise manner using **numpy's** functions for these descriptive statistics."
      ]
    },
    {
      "cell_type": "code",
      "execution_count": null,
      "metadata": {
        "colab": {
          "base_uri": "https://localhost:8080/"
        },
        "id": "5crtFhCdXGOb",
        "outputId": "a254dff2-a609-4255-a47a-e6ab1eb5a635"
      },
      "outputs": [],
      "source": [
        "cov = np.cov(df.parent_sleep, df.parent_grumpy, ddof=0) # calculate the covariance of x=df.parent_sleep and y=df.parent_grumpy\n",
        "var_x = np.var(df.parent_sleep, ddof=0) # calculate the variance of x=df.parent_sleep\n",
        "\n",
        "beta1_hat = cov[0,1] / var_x\n",
        "beta0_hat = df.parent_grumpy.mean() - beta1_hat * df.parent_sleep.mean()\n",
        "(beta0_hat, beta1_hat)"
      ]
    },
    {
      "cell_type": "markdown",
      "metadata": {
        "id": "-OfWVZk7XGOb"
      },
      "source": [
        "Hopefully it is somewhat satisfying to see that regardless of the approach we used, we still come up with the same model fit (i.e. the model parameters have the same values). We won't look at them here, but there are even more ways to state these formulas, including with the correlation between $x$ and $y$.\n",
        "\n",
        "Next, let's assume that when the data was collected, the amount of sleep a parent had was recorded in minuts. The cell below creates this column, `parent_sleep_minutes`. Use this for the following question."
      ]
    },
    {
      "cell_type": "code",
      "execution_count": null,
      "metadata": {
        "colab": {
          "base_uri": "https://localhost:8080/",
          "height": 335
        },
        "id": "FQE2Xv73XGOb",
        "outputId": "43bac0cd-a7bc-4d45-d724-2aab8a170cdf"
      },
      "outputs": [],
      "source": [
        "df['parent_sleep_minutes'] = df['parent_sleep']*60\n",
        "df.parent_sleep_minutes.describe()"
      ]
    },
    {
      "cell_type": "markdown",
      "metadata": {
        "id": "2UBDb5iLXGOc"
      },
      "source": [
        " ***\n",
        "\n",
        " ### Q6: Fit a new linear regression model with **statsmodels** where `parent_sleep_minutes` is used to predict `parent_grumpy`. Does this affect the model parameter estimates? Are they the same? Or different?\n",
        "\n",
        "When changing the statsmodel to parent_sleep_minutes the intercept stays the same, where the slope becomes -0.149. Doing some quick math, we see that the previous hour slope, -8.937/60 does equal our new -0.149, so we know that fitting the model with parent_sleep_minutes does not change the model fit or predictions, it just rescales the slope parameter to adapt to the new unit of measurement.\n",
        "\n",
        " ***"
      ]
    },
    {
      "cell_type": "code",
      "execution_count": null,
      "metadata": {
        "colab": {
          "base_uri": "https://localhost:8080/",
          "height": 147
        },
        "id": "ulFjEjGDXGOc",
        "outputId": "ca420943-cd21-468d-ea4c-5b55e9482fe5"
      },
      "outputs": [],
      "source": [
        "sm_lm_min = smf.ols(formula='parent_grumpy ~ parent_sleep_minutes', data=df).fit()\n",
        "sm_lm_min.params"
      ]
    },
    {
      "cell_type": "markdown",
      "metadata": {
        "id": "lnBYUntKXGOc"
      },
      "source": [
        "***\n",
        "\n",
        "### Q7: Does having `parent_sleep` measured in different units affect how well the model fits the data? In other words, is the $R^2$ different from when `parent_sleep` was measured in hours? Also, are the p-values associated with $\\beta_0$, $\\beta_1$ different? What does this tell you about how linear regression models are affected by a variable being scaled?\n",
        "\n",
        "Both $R^2$ and the p-values remain unchanged when the unit of measurement is changed, meaning that linear regression models are uneffected by variance in x measurements, the predictions stays the same. This makes sense because we are measuring the relationship between x and y, and while the slope coefficient changes scale, it is only to match the new unit.\n",
        "\n",
        "***"
      ]
    },
    {
      "cell_type": "code",
      "execution_count": null,
      "metadata": {
        "colab": {
          "base_uri": "https://localhost:8080/",
          "height": 486
        },
        "id": "fY3-WnUwjULh",
        "outputId": "88ebaed5-cd07-41d5-8821-f628c35bdea5"
      },
      "outputs": [],
      "source": [
        "sm_lm_min.summary()"
      ]
    },
    {
      "cell_type": "markdown",
      "metadata": {
        "id": "n3zhouvIXGOc"
      },
      "source": [
        "### Multiple Linear Regression\n",
        "\n",
        "What we've looked at so far is commonly referred to as *Simple Linear Regression*, which is when there is one *predictor* (or *feature* or *independent variable*), $x$, and we are trying to predict the *outcome* or *response* or *dependent variable*, $y$. Linear Regression is a powerful and commonly used tool though, so you can imagine that it's not too difficult to add more predictors. Below is an example where we'll try fitting a *Multiple linear Regression* model, which is a linear regression model with more two or more *predictors* (or *features* or *independent variables*).\n",
        "\n",
        "The dataset is a (hypothetical) company's advertising spend and sales they have made for each day. There are four columns in the data:\n",
        "* `tv` - amount of money spent on television advertising last week\n",
        "* `radio` - amount of money spent on radio advertising last week\n",
        "* `newspaper` - amount of money spent on newpaper advertising last week\n",
        "* `sales` - number of widgets (in thousands) the company sold last week"
      ]
    },
    {
      "cell_type": "code",
      "execution_count": null,
      "metadata": {
        "colab": {
          "base_uri": "https://localhost:8080/",
          "height": 206
        },
        "id": "eAYfaCrnXGOc",
        "outputId": "f4b4f7d2-be80-4324-9da8-a0a6494ab62a"
      },
      "outputs": [],
      "source": [
        "df_adv = pd.read_csv('https://raw.githubusercontent.com/sgeinitz/CS3120/main/lab1_data_advertising.csv')\n",
        "df_adv.head()"
      ]
    },
    {
      "cell_type": "markdown",
      "metadata": {
        "id": "gJlEaxldXGOc"
      },
      "source": [
        "Let's also get a quick idea of what the data looks like in terms of min, max, mean, etc."
      ]
    },
    {
      "cell_type": "code",
      "execution_count": null,
      "metadata": {
        "colab": {
          "base_uri": "https://localhost:8080/",
          "height": 300
        },
        "id": "gRYNa6VOXGOc",
        "outputId": "6675bd8e-4e70-4774-8bef-58222be678cb"
      },
      "outputs": [],
      "source": [
        "df_adv.describe()"
      ]
    },
    {
      "cell_type": "markdown",
      "metadata": {
        "id": "Fb8bLXI_XGOd"
      },
      "source": [
        "***\n",
        "\n",
        " ### Q8: As we said, any data analysis or modeling task first requires looking at or visualizing the data. Plot the each of the independent variables (`tv`, `radio`, `newspaper`) against the dependent variable, `sales`. Then state which of them you think looks like it going to best predict `sales`.\n",
        "\n",
        "Visually we can see that the relationship between sales and tv has the strongest correlation, followed by radio and then newspaper. We can see that there is a strong positive linear relationship with Tv, a weaker one with radio, and no clear relationship with newspaper.\n",
        "\n",
        "***\n",
        "\n",
        "If you can, try to put all of the plots together in a single figure."
      ]
    },
    {
      "cell_type": "code",
      "execution_count": null,
      "metadata": {
        "colab": {
          "base_uri": "https://localhost:8080/",
          "height": 465
        },
        "id": "ixT7V5xjXGOd",
        "outputId": "9a63f428-01f4-45d3-fc30-67b61cadf761"
      },
      "outputs": [],
      "source": [
        "# plot all three of the features against sales\n",
        "fig, (ax1, ax2, ax3) = plt.subplots(1, 3, figsize=(15, 5))\n",
        "sns.scatterplot(data=df_adv, x='tv', y='sales', ax=ax1)\n",
        "sns.scatterplot(data=df_adv, x='radio', y='sales', ax=ax2)\n",
        "sns.scatterplot(data=df_adv, x='newspaper', y='sales', ax=ax3)\n",
        "plt.show()\n"
      ]
    },
    {
      "cell_type": "markdown",
      "metadata": {
        "id": "t6FdMfKHXGOd"
      },
      "source": [
        "Next, let's fit a linear regression model using all three variables."
      ]
    },
    {
      "cell_type": "code",
      "execution_count": null,
      "metadata": {
        "colab": {
          "base_uri": "https://localhost:8080/",
          "height": 494
        },
        "id": "FL98dt3mXGOd",
        "outputId": "db6c6a18-d2cf-4d08-a36b-fb481b3bc9a9"
      },
      "outputs": [],
      "source": [
        "lm_adv = smf.ols(formula='sales ~ tv + radio + newspaper', data=df_adv).fit()\n",
        "lm_adv.summary()"
      ]
    },
    {
      "cell_type": "markdown",
      "metadata": {
        "id": "NO5cQ_XMXGOd"
      },
      "source": [
        "It looks like that model fits pretty well. But, based on the plots you saw above, it looks like there is not an exact linear relationship between `tv` and `sales`...\n",
        "\n",
        "***\n",
        "\n",
        "### Q9: Try fitting a model to this dataset with `radio` and `newspaper` included, but use the square root of `tv`. Then print the summary of the model to see the $R^2$. If you worked for this company, which model do you think you would use? The one above or this new one you created here? Explain why.\n",
        "\n",
        "Comparing the previous $R^2$ value 0.897 to the new one 0.929, we can see that the higher $R^2$ is a better fit. It represents more variance in sales, highlights the most important relationship in the model, that between sales and Tv.\n",
        "\n",
        "***\n",
        "\n",
        "Hints:\n",
        "* Use [this reference](https://www.statsmodels.org/dev/example_formulas.html#functions) to see how to include a function of an independent variable in your model\n",
        "* The function, `np.sqrt( )` is numpy's square root function"
      ]
    },
    {
      "cell_type": "code",
      "execution_count": null,
      "metadata": {
        "colab": {
          "base_uri": "https://localhost:8080/",
          "height": 494
        },
        "id": "nmL3B6RRXGOd",
        "outputId": "d2fb8cc6-c179-4823-9be4-de4d9cfcadf3"
      },
      "outputs": [],
      "source": [
        "lm_adv = smf.ols(formula='sales ~ np.sqrt(tv) + radio + newspaper', data=df_adv).fit()\n",
        "lm_adv.summary()"
      ]
    },
    {
      "cell_type": "markdown",
      "metadata": {
        "id": "-WO7v6uXXGOd"
      },
      "source": [
        "Nice work completing this notebook. If you didn't already appreciate the power of linear regression, hopefully this helped convince you in some way. Even though we will use lots of other types of models, you will almost always want to start with linear regression because of its simplicity, stability, and flexibility. We'll always want to use the *right model for the task at hand* though, so we probably don't want to be too much like either of the people below :)\n",
        "\n",
        "![Example Image](https://media.licdn.com/dms/image/v2/D4E22AQFLVt8372oIQA/feedshare-shrink_800/feedshare-shrink_800/0/1710511681665?e=1727308800&v=beta&t=XephAeg6t9otHgyXtIHxbYiAxJdKOkH0uP0pU9eP2oY)\n"
      ]
    }
  ],
  "metadata": {
    "colab": {
      "include_colab_link": true,
      "provenance": []
    },
    "kernelspec": {
      "display_name": "Python 3 (ipykernel)",
      "language": "python",
      "name": "python3"
    },
    "language_info": {
      "codemirror_mode": {
        "name": "ipython",
        "version": 3
      },
      "file_extension": ".py",
      "mimetype": "text/x-python",
      "name": "python",
      "nbconvert_exporter": "python",
      "pygments_lexer": "ipython3",
      "version": "3.12.4"
    },
    "toc": {
      "base_numbering": 1,
      "nav_menu": {},
      "number_sections": true,
      "sideBar": true,
      "skip_h1_title": false,
      "title_cell": "Table of Contents",
      "title_sidebar": "Contents",
      "toc_cell": false,
      "toc_position": {},
      "toc_section_display": true,
      "toc_window_display": false
    },
    "widgets": {
      "application/vnd.jupyter.widget-state+json": {
        "0ffca712402946b8b3219f0876ec546b": {
          "model_module": "@jupyter-widgets/base",
          "model_module_version": "1.2.0",
          "model_name": "LayoutModel",
          "state": {
            "_model_module": "@jupyter-widgets/base",
            "_model_module_version": "1.2.0",
            "_model_name": "LayoutModel",
            "_view_count": null,
            "_view_module": "@jupyter-widgets/base",
            "_view_module_version": "1.2.0",
            "_view_name": "LayoutView",
            "align_content": null,
            "align_items": null,
            "align_self": null,
            "border": null,
            "bottom": null,
            "display": null,
            "flex": null,
            "flex_flow": null,
            "grid_area": null,
            "grid_auto_columns": null,
            "grid_auto_flow": null,
            "grid_auto_rows": null,
            "grid_column": null,
            "grid_gap": null,
            "grid_row": null,
            "grid_template_areas": null,
            "grid_template_columns": null,
            "grid_template_rows": null,
            "height": null,
            "justify_content": null,
            "justify_items": null,
            "left": null,
            "margin": null,
            "max_height": null,
            "max_width": null,
            "min_height": null,
            "min_width": null,
            "object_fit": null,
            "object_position": null,
            "order": null,
            "overflow": null,
            "overflow_x": null,
            "overflow_y": null,
            "padding": null,
            "right": null,
            "top": null,
            "visibility": null,
            "width": null
          }
        },
        "171c6b9361ee4548b4277be9f5c5c9fa": {
          "model_module": "@jupyter-widgets/base",
          "model_module_version": "1.2.0",
          "model_name": "LayoutModel",
          "state": {
            "_model_module": "@jupyter-widgets/base",
            "_model_module_version": "1.2.0",
            "_model_name": "LayoutModel",
            "_view_count": null,
            "_view_module": "@jupyter-widgets/base",
            "_view_module_version": "1.2.0",
            "_view_name": "LayoutView",
            "align_content": null,
            "align_items": null,
            "align_self": null,
            "border": null,
            "bottom": null,
            "display": null,
            "flex": null,
            "flex_flow": null,
            "grid_area": null,
            "grid_auto_columns": null,
            "grid_auto_flow": null,
            "grid_auto_rows": null,
            "grid_column": null,
            "grid_gap": null,
            "grid_row": null,
            "grid_template_areas": null,
            "grid_template_columns": null,
            "grid_template_rows": null,
            "height": null,
            "justify_content": null,
            "justify_items": null,
            "left": null,
            "margin": null,
            "max_height": null,
            "max_width": null,
            "min_height": null,
            "min_width": null,
            "object_fit": null,
            "object_position": null,
            "order": null,
            "overflow": null,
            "overflow_x": null,
            "overflow_y": null,
            "padding": null,
            "right": null,
            "top": null,
            "visibility": null,
            "width": null
          }
        },
        "17a86e66c1384d2595fa5515152a895e": {
          "model_module": "@jupyter-widgets/base",
          "model_module_version": "1.2.0",
          "model_name": "LayoutModel",
          "state": {
            "_model_module": "@jupyter-widgets/base",
            "_model_module_version": "1.2.0",
            "_model_name": "LayoutModel",
            "_view_count": null,
            "_view_module": "@jupyter-widgets/base",
            "_view_module_version": "1.2.0",
            "_view_name": "LayoutView",
            "align_content": null,
            "align_items": null,
            "align_self": null,
            "border": null,
            "bottom": null,
            "display": null,
            "flex": null,
            "flex_flow": null,
            "grid_area": null,
            "grid_auto_columns": null,
            "grid_auto_flow": null,
            "grid_auto_rows": null,
            "grid_column": null,
            "grid_gap": null,
            "grid_row": null,
            "grid_template_areas": null,
            "grid_template_columns": null,
            "grid_template_rows": null,
            "height": null,
            "justify_content": null,
            "justify_items": null,
            "left": null,
            "margin": null,
            "max_height": null,
            "max_width": null,
            "min_height": null,
            "min_width": null,
            "object_fit": null,
            "object_position": null,
            "order": null,
            "overflow": null,
            "overflow_x": null,
            "overflow_y": null,
            "padding": null,
            "right": null,
            "top": null,
            "visibility": null,
            "width": null
          }
        },
        "18d65da379334f0bad3e0fbdd47023bf": {
          "model_module": "@jupyter-widgets/controls",
          "model_module_version": "1.5.0",
          "model_name": "IntSliderModel",
          "state": {
            "_dom_classes": [],
            "_model_module": "@jupyter-widgets/controls",
            "_model_module_version": "1.5.0",
            "_model_name": "IntSliderModel",
            "_view_count": null,
            "_view_module": "@jupyter-widgets/controls",
            "_view_module_version": "1.5.0",
            "_view_name": "IntSliderView",
            "continuous_update": true,
            "description": "intercept",
            "description_tooltip": null,
            "disabled": false,
            "layout": "IPY_MODEL_17a86e66c1384d2595fa5515152a895e",
            "max": 200,
            "min": 0,
            "orientation": "horizontal",
            "readout": true,
            "readout_format": "d",
            "step": 1,
            "style": "IPY_MODEL_920a2fa965e448d69d964bc51af2d126",
            "value": 49
          }
        },
        "1a34cb56a3134ab096299198f232a108": {
          "model_module": "@jupyter-widgets/base",
          "model_module_version": "1.2.0",
          "model_name": "LayoutModel",
          "state": {
            "_model_module": "@jupyter-widgets/base",
            "_model_module_version": "1.2.0",
            "_model_name": "LayoutModel",
            "_view_count": null,
            "_view_module": "@jupyter-widgets/base",
            "_view_module_version": "1.2.0",
            "_view_name": "LayoutView",
            "align_content": null,
            "align_items": null,
            "align_self": null,
            "border": null,
            "bottom": null,
            "display": null,
            "flex": null,
            "flex_flow": null,
            "grid_area": null,
            "grid_auto_columns": null,
            "grid_auto_flow": null,
            "grid_auto_rows": null,
            "grid_column": null,
            "grid_gap": null,
            "grid_row": null,
            "grid_template_areas": null,
            "grid_template_columns": null,
            "grid_template_rows": null,
            "height": null,
            "justify_content": null,
            "justify_items": null,
            "left": null,
            "margin": null,
            "max_height": null,
            "max_width": null,
            "min_height": null,
            "min_width": null,
            "object_fit": null,
            "object_position": null,
            "order": null,
            "overflow": null,
            "overflow_x": null,
            "overflow_y": null,
            "padding": null,
            "right": null,
            "top": null,
            "visibility": null,
            "width": null
          }
        },
        "4a7ab4a496ef4f1aa04d5e10d2046e97": {
          "model_module": "@jupyter-widgets/controls",
          "model_module_version": "1.5.0",
          "model_name": "IntSliderModel",
          "state": {
            "_dom_classes": [],
            "_model_module": "@jupyter-widgets/controls",
            "_model_module_version": "1.5.0",
            "_model_name": "IntSliderModel",
            "_view_count": null,
            "_view_module": "@jupyter-widgets/controls",
            "_view_module_version": "1.5.0",
            "_view_name": "IntSliderView",
            "continuous_update": true,
            "description": "intercept",
            "description_tooltip": null,
            "disabled": false,
            "layout": "IPY_MODEL_7bbac2932d1e4c01bd05fd4dfdbe6ab3",
            "max": 200,
            "min": 0,
            "orientation": "horizontal",
            "readout": true,
            "readout_format": "d",
            "step": 1,
            "style": "IPY_MODEL_fd1421a1fde847d385fdaa0278c518a2",
            "value": 113
          }
        },
        "551a297ce3dd48f7bb324e586f977ff4": {
          "model_module": "@jupyter-widgets/controls",
          "model_module_version": "1.5.0",
          "model_name": "SliderStyleModel",
          "state": {
            "_model_module": "@jupyter-widgets/controls",
            "_model_module_version": "1.5.0",
            "_model_name": "SliderStyleModel",
            "_view_count": null,
            "_view_module": "@jupyter-widgets/base",
            "_view_module_version": "1.2.0",
            "_view_name": "StyleView",
            "description_width": "",
            "handle_color": null
          }
        },
        "71a36afde1bf48e487bb70f4f62e4e0f": {
          "model_module": "@jupyter-widgets/controls",
          "model_module_version": "1.5.0",
          "model_name": "IntSliderModel",
          "state": {
            "_dom_classes": [],
            "_model_module": "@jupyter-widgets/controls",
            "_model_module_version": "1.5.0",
            "_model_name": "IntSliderModel",
            "_view_count": null,
            "_view_module": "@jupyter-widgets/controls",
            "_view_module_version": "1.5.0",
            "_view_name": "IntSliderView",
            "continuous_update": true,
            "description": "slope",
            "description_tooltip": null,
            "disabled": false,
            "layout": "IPY_MODEL_a2abe92d35cd47e9809e35a08560ec51",
            "max": 20,
            "min": -20,
            "orientation": "horizontal",
            "readout": true,
            "readout_format": "d",
            "step": 1,
            "style": "IPY_MODEL_551a297ce3dd48f7bb324e586f977ff4",
            "value": -7
          }
        },
        "725f4aaf34e04718821fd6a04b066b2e": {
          "model_module": "@jupyter-widgets/output",
          "model_module_version": "1.0.0",
          "model_name": "OutputModel",
          "state": {
            "_dom_classes": [],
            "_model_module": "@jupyter-widgets/output",
            "_model_module_version": "1.0.0",
            "_model_name": "OutputModel",
            "_view_count": null,
            "_view_module": "@jupyter-widgets/output",
            "_view_module_version": "1.0.0",
            "_view_name": "OutputView",
            "layout": "IPY_MODEL_1a34cb56a3134ab096299198f232a108",
            "msg_id": "",
            "outputs": [
              {
                "data": {
                  "image/png": "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\n",
                  "text/plain": "<Figure size 900x600 with 1 Axes>"
                },
                "metadata": {},
                "output_type": "display_data"
              }
            ]
          }
        },
        "7bbac2932d1e4c01bd05fd4dfdbe6ab3": {
          "model_module": "@jupyter-widgets/base",
          "model_module_version": "1.2.0",
          "model_name": "LayoutModel",
          "state": {
            "_model_module": "@jupyter-widgets/base",
            "_model_module_version": "1.2.0",
            "_model_name": "LayoutModel",
            "_view_count": null,
            "_view_module": "@jupyter-widgets/base",
            "_view_module_version": "1.2.0",
            "_view_name": "LayoutView",
            "align_content": null,
            "align_items": null,
            "align_self": null,
            "border": null,
            "bottom": null,
            "display": null,
            "flex": null,
            "flex_flow": null,
            "grid_area": null,
            "grid_auto_columns": null,
            "grid_auto_flow": null,
            "grid_auto_rows": null,
            "grid_column": null,
            "grid_gap": null,
            "grid_row": null,
            "grid_template_areas": null,
            "grid_template_columns": null,
            "grid_template_rows": null,
            "height": null,
            "justify_content": null,
            "justify_items": null,
            "left": null,
            "margin": null,
            "max_height": null,
            "max_width": null,
            "min_height": null,
            "min_width": null,
            "object_fit": null,
            "object_position": null,
            "order": null,
            "overflow": null,
            "overflow_x": null,
            "overflow_y": null,
            "padding": null,
            "right": null,
            "top": null,
            "visibility": null,
            "width": null
          }
        },
        "82335444ad0b4316a7da5e71b3835759": {
          "model_module": "@jupyter-widgets/controls",
          "model_module_version": "1.5.0",
          "model_name": "SliderStyleModel",
          "state": {
            "_model_module": "@jupyter-widgets/controls",
            "_model_module_version": "1.5.0",
            "_model_name": "SliderStyleModel",
            "_view_count": null,
            "_view_module": "@jupyter-widgets/base",
            "_view_module_version": "1.2.0",
            "_view_name": "StyleView",
            "description_width": "",
            "handle_color": null
          }
        },
        "920a2fa965e448d69d964bc51af2d126": {
          "model_module": "@jupyter-widgets/controls",
          "model_module_version": "1.5.0",
          "model_name": "SliderStyleModel",
          "state": {
            "_model_module": "@jupyter-widgets/controls",
            "_model_module_version": "1.5.0",
            "_model_name": "SliderStyleModel",
            "_view_count": null,
            "_view_module": "@jupyter-widgets/base",
            "_view_module_version": "1.2.0",
            "_view_name": "StyleView",
            "description_width": "",
            "handle_color": null
          }
        },
        "94c40e53ab2f44798acebfef5048afdc": {
          "model_module": "@jupyter-widgets/controls",
          "model_module_version": "1.5.0",
          "model_name": "VBoxModel",
          "state": {
            "_dom_classes": [
              "widget-interact"
            ],
            "_model_module": "@jupyter-widgets/controls",
            "_model_module_version": "1.5.0",
            "_model_name": "VBoxModel",
            "_view_count": null,
            "_view_module": "@jupyter-widgets/controls",
            "_view_module_version": "1.5.0",
            "_view_name": "VBoxView",
            "box_style": "",
            "children": [
              "IPY_MODEL_f52ec7f7e51a4517a14ee04b9fd80a1f",
              "IPY_MODEL_18d65da379334f0bad3e0fbdd47023bf",
              "IPY_MODEL_725f4aaf34e04718821fd6a04b066b2e"
            ],
            "layout": "IPY_MODEL_fb5cafa897744e56a7fa36880a228884"
          }
        },
        "a07dc9f6989649deaf0552bb6a95ba62": {
          "model_module": "@jupyter-widgets/base",
          "model_module_version": "1.2.0",
          "model_name": "LayoutModel",
          "state": {
            "_model_module": "@jupyter-widgets/base",
            "_model_module_version": "1.2.0",
            "_model_name": "LayoutModel",
            "_view_count": null,
            "_view_module": "@jupyter-widgets/base",
            "_view_module_version": "1.2.0",
            "_view_name": "LayoutView",
            "align_content": null,
            "align_items": null,
            "align_self": null,
            "border": null,
            "bottom": null,
            "display": null,
            "flex": null,
            "flex_flow": null,
            "grid_area": null,
            "grid_auto_columns": null,
            "grid_auto_flow": null,
            "grid_auto_rows": null,
            "grid_column": null,
            "grid_gap": null,
            "grid_row": null,
            "grid_template_areas": null,
            "grid_template_columns": null,
            "grid_template_rows": null,
            "height": null,
            "justify_content": null,
            "justify_items": null,
            "left": null,
            "margin": null,
            "max_height": null,
            "max_width": null,
            "min_height": null,
            "min_width": null,
            "object_fit": null,
            "object_position": null,
            "order": null,
            "overflow": null,
            "overflow_x": null,
            "overflow_y": null,
            "padding": null,
            "right": null,
            "top": null,
            "visibility": null,
            "width": null
          }
        },
        "a2abe92d35cd47e9809e35a08560ec51": {
          "model_module": "@jupyter-widgets/base",
          "model_module_version": "1.2.0",
          "model_name": "LayoutModel",
          "state": {
            "_model_module": "@jupyter-widgets/base",
            "_model_module_version": "1.2.0",
            "_model_name": "LayoutModel",
            "_view_count": null,
            "_view_module": "@jupyter-widgets/base",
            "_view_module_version": "1.2.0",
            "_view_name": "LayoutView",
            "align_content": null,
            "align_items": null,
            "align_self": null,
            "border": null,
            "bottom": null,
            "display": null,
            "flex": null,
            "flex_flow": null,
            "grid_area": null,
            "grid_auto_columns": null,
            "grid_auto_flow": null,
            "grid_auto_rows": null,
            "grid_column": null,
            "grid_gap": null,
            "grid_row": null,
            "grid_template_areas": null,
            "grid_template_columns": null,
            "grid_template_rows": null,
            "height": null,
            "justify_content": null,
            "justify_items": null,
            "left": null,
            "margin": null,
            "max_height": null,
            "max_width": null,
            "min_height": null,
            "min_width": null,
            "object_fit": null,
            "object_position": null,
            "order": null,
            "overflow": null,
            "overflow_x": null,
            "overflow_y": null,
            "padding": null,
            "right": null,
            "top": null,
            "visibility": null,
            "width": null
          }
        },
        "dd270882e5d6476895ff75552c8ca92e": {
          "model_module": "@jupyter-widgets/output",
          "model_module_version": "1.0.0",
          "model_name": "OutputModel",
          "state": {
            "_dom_classes": [],
            "_model_module": "@jupyter-widgets/output",
            "_model_module_version": "1.0.0",
            "_model_name": "OutputModel",
            "_view_count": null,
            "_view_module": "@jupyter-widgets/output",
            "_view_module_version": "1.0.0",
            "_view_name": "OutputView",
            "layout": "IPY_MODEL_171c6b9361ee4548b4277be9f5c5c9fa",
            "msg_id": "",
            "outputs": [
              {
                "data": {
                  "image/png": "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\n",
                  "text/plain": "<Figure size 900x600 with 1 Axes>"
                },
                "metadata": {},
                "output_type": "display_data"
              }
            ]
          }
        },
        "dec037abe49045bd8f917a30ee7da7d4": {
          "model_module": "@jupyter-widgets/controls",
          "model_module_version": "1.5.0",
          "model_name": "VBoxModel",
          "state": {
            "_dom_classes": [
              "widget-interact"
            ],
            "_model_module": "@jupyter-widgets/controls",
            "_model_module_version": "1.5.0",
            "_model_name": "VBoxModel",
            "_view_count": null,
            "_view_module": "@jupyter-widgets/controls",
            "_view_module_version": "1.5.0",
            "_view_name": "VBoxView",
            "box_style": "",
            "children": [
              "IPY_MODEL_71a36afde1bf48e487bb70f4f62e4e0f",
              "IPY_MODEL_4a7ab4a496ef4f1aa04d5e10d2046e97",
              "IPY_MODEL_dd270882e5d6476895ff75552c8ca92e"
            ],
            "layout": "IPY_MODEL_a07dc9f6989649deaf0552bb6a95ba62"
          }
        },
        "f52ec7f7e51a4517a14ee04b9fd80a1f": {
          "model_module": "@jupyter-widgets/controls",
          "model_module_version": "1.5.0",
          "model_name": "IntSliderModel",
          "state": {
            "_dom_classes": [],
            "_model_module": "@jupyter-widgets/controls",
            "_model_module_version": "1.5.0",
            "_model_name": "IntSliderModel",
            "_view_count": null,
            "_view_module": "@jupyter-widgets/controls",
            "_view_module_version": "1.5.0",
            "_view_name": "IntSliderView",
            "continuous_update": true,
            "description": "slope",
            "description_tooltip": null,
            "disabled": false,
            "layout": "IPY_MODEL_0ffca712402946b8b3219f0876ec546b",
            "max": 20,
            "min": -20,
            "orientation": "horizontal",
            "readout": true,
            "readout_format": "d",
            "step": 1,
            "style": "IPY_MODEL_82335444ad0b4316a7da5e71b3835759",
            "value": 2
          }
        },
        "fb5cafa897744e56a7fa36880a228884": {
          "model_module": "@jupyter-widgets/base",
          "model_module_version": "1.2.0",
          "model_name": "LayoutModel",
          "state": {
            "_model_module": "@jupyter-widgets/base",
            "_model_module_version": "1.2.0",
            "_model_name": "LayoutModel",
            "_view_count": null,
            "_view_module": "@jupyter-widgets/base",
            "_view_module_version": "1.2.0",
            "_view_name": "LayoutView",
            "align_content": null,
            "align_items": null,
            "align_self": null,
            "border": null,
            "bottom": null,
            "display": null,
            "flex": null,
            "flex_flow": null,
            "grid_area": null,
            "grid_auto_columns": null,
            "grid_auto_flow": null,
            "grid_auto_rows": null,
            "grid_column": null,
            "grid_gap": null,
            "grid_row": null,
            "grid_template_areas": null,
            "grid_template_columns": null,
            "grid_template_rows": null,
            "height": null,
            "justify_content": null,
            "justify_items": null,
            "left": null,
            "margin": null,
            "max_height": null,
            "max_width": null,
            "min_height": null,
            "min_width": null,
            "object_fit": null,
            "object_position": null,
            "order": null,
            "overflow": null,
            "overflow_x": null,
            "overflow_y": null,
            "padding": null,
            "right": null,
            "top": null,
            "visibility": null,
            "width": null
          }
        },
        "fd1421a1fde847d385fdaa0278c518a2": {
          "model_module": "@jupyter-widgets/controls",
          "model_module_version": "1.5.0",
          "model_name": "SliderStyleModel",
          "state": {
            "_model_module": "@jupyter-widgets/controls",
            "_model_module_version": "1.5.0",
            "_model_name": "SliderStyleModel",
            "_view_count": null,
            "_view_module": "@jupyter-widgets/base",
            "_view_module_version": "1.2.0",
            "_view_name": "StyleView",
            "description_width": "",
            "handle_color": null
          }
        }
      }
    }
  },
  "nbformat": 4,
  "nbformat_minor": 0
}
